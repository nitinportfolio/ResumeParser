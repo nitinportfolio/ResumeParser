{
 "cells": [
  {
   "cell_type": "code",
   "execution_count": 1,
   "id": "e9f79d09",
   "metadata": {},
   "outputs": [],
   "source": [
    "#pip install python-docx\n",
    "#pip install docx\n",
    "#pip install pyresparser"
   ]
  },
  {
   "cell_type": "code",
   "execution_count": 18,
   "id": "9f0f01ee",
   "metadata": {},
   "outputs": [],
   "source": [
    "\n",
    "\n",
    "import os\n",
    "from docx import Document\n",
    "from pdfminer.layout import LAParams, LTTextBox\n",
    "\n",
    "from pdfminer.pdfpage import PDFPage\n",
    "from pdfminer.pdfinterp import PDFResourceManager\n",
    "from pdfminer.pdfinterp import PDFPageInterpreter\n",
    "from pdfminer.converter import TextConverter\n",
    "\n",
    "import pandas as pd\n",
    "import streamlit as st\n",
    "\n",
    "import base64, random\n",
    "import time, datetime\n",
    "\n",
    "import io"
   ]
  },
  {
   "cell_type": "code",
   "execution_count": 19,
   "id": "b4afa28f",
   "metadata": {},
   "outputs": [],
   "source": [
    "\n",
    "from pyresparser import ResumeParser"
   ]
  },
  {
   "cell_type": "code",
   "execution_count": 20,
   "id": "e59a2b19",
   "metadata": {},
   "outputs": [],
   "source": [
    "import warnings\n",
    "warnings.filterwarnings(\"ignore\")"
   ]
  },
  {
   "cell_type": "code",
   "execution_count": 21,
   "id": "5fa0db53",
   "metadata": {},
   "outputs": [],
   "source": [
    "import en_core_web_sm"
   ]
  },
  {
   "cell_type": "code",
   "execution_count": 22,
   "id": "359f1a7a",
   "metadata": {},
   "outputs": [],
   "source": [
    "file = \"E:\\SampleResumes\\Anish_Resume.pdf\""
   ]
  },
  {
   "cell_type": "code",
   "execution_count": 23,
   "id": "dbb2b2bf",
   "metadata": {},
   "outputs": [],
   "source": [
    "data = ResumeParser(file).get_extracted_data()"
   ]
  },
  {
   "cell_type": "code",
   "execution_count": 24,
   "id": "da8cb7ce",
   "metadata": {},
   "outputs": [
    {
     "data": {
      "text/plain": [
       "{'name': 'ANISH KUMAR PATEL',\n",
       " 'email': 'patelanish081@gmail.com',\n",
       " 'mobile_number': '9777024404',\n",
       " 'skills': ['Programming',\n",
       "  'Php',\n",
       "  'Writing',\n",
       "  'Visual',\n",
       "  'Github',\n",
       "  'Analysis',\n",
       "  'Research',\n",
       "  'Website',\n",
       "  'Javascript',\n",
       "  'Apis',\n",
       "  'Js',\n",
       "  'Python',\n",
       "  'Email',\n",
       "  'System',\n",
       "  'Scheduling',\n",
       "  'R',\n",
       "  'Css',\n",
       "  'Mysql',\n",
       "  'Java',\n",
       "  'Communication',\n",
       "  'Technical',\n",
       "  'Computer science',\n",
       "  'Engineering',\n",
       "  'Html'],\n",
       " 'college_name': None,\n",
       " 'degree': ['Bachelor of Technology in Computer Science and Engineering'],\n",
       " 'designation': None,\n",
       " 'experience': [],\n",
       " 'company_names': None,\n",
       " 'no_of_pages': 2,\n",
       " 'total_experience': 0.0}"
      ]
     },
     "execution_count": 24,
     "metadata": {},
     "output_type": "execute_result"
    }
   ],
   "source": [
    "data"
   ]
  },
  {
   "cell_type": "code",
   "execution_count": 25,
   "id": "c0088c99",
   "metadata": {},
   "outputs": [
    {
     "data": {
      "text/plain": [
       "['ResumeParser',\n",
       " '__all__',\n",
       " '__builtins__',\n",
       " '__cached__',\n",
       " '__doc__',\n",
       " '__file__',\n",
       " '__loader__',\n",
       " '__name__',\n",
       " '__package__',\n",
       " '__path__',\n",
       " '__spec__',\n",
       " 'constants',\n",
       " 'resume_parser',\n",
       " 'utils']"
      ]
     },
     "execution_count": 25,
     "metadata": {},
     "output_type": "execute_result"
    }
   ],
   "source": [
    "import pyresparser\n",
    "dir(pyresparser)"
   ]
  },
  {
   "cell_type": "code",
   "execution_count": 26,
   "id": "e45967b5",
   "metadata": {},
   "outputs": [],
   "source": [
    "#from pyresparser import resume_parser, ResumeParser\n",
    "#dir(resume_parser)"
   ]
  },
  {
   "cell_type": "code",
   "execution_count": 27,
   "id": "012c3e55",
   "metadata": {},
   "outputs": [],
   "source": [
    "#dir(ResumeParser)"
   ]
  },
  {
   "cell_type": "code",
   "execution_count": 28,
   "id": "1e36c144",
   "metadata": {},
   "outputs": [
    {
     "data": {
      "text/plain": [
       "['Programming',\n",
       " 'Php',\n",
       " 'Writing',\n",
       " 'Visual',\n",
       " 'Github',\n",
       " 'Analysis',\n",
       " 'Research',\n",
       " 'Website',\n",
       " 'Javascript',\n",
       " 'Apis',\n",
       " 'Js',\n",
       " 'Python',\n",
       " 'Email',\n",
       " 'System',\n",
       " 'Scheduling',\n",
       " 'R',\n",
       " 'Css',\n",
       " 'Mysql',\n",
       " 'Java',\n",
       " 'Communication',\n",
       " 'Technical',\n",
       " 'Computer science',\n",
       " 'Engineering',\n",
       " 'Html']"
      ]
     },
     "execution_count": 28,
     "metadata": {},
     "output_type": "execute_result"
    }
   ],
   "source": [
    "skills = data[\"skills\"]\n",
    "skills"
   ]
  },
  {
   "cell_type": "code",
   "execution_count": 29,
   "id": "2c36f303",
   "metadata": {},
   "outputs": [
    {
     "data": {
      "text/html": [
       "<div>\n",
       "<style scoped>\n",
       "    .dataframe tbody tr th:only-of-type {\n",
       "        vertical-align: middle;\n",
       "    }\n",
       "\n",
       "    .dataframe tbody tr th {\n",
       "        vertical-align: top;\n",
       "    }\n",
       "\n",
       "    .dataframe thead th {\n",
       "        text-align: right;\n",
       "    }\n",
       "</style>\n",
       "<table border=\"1\" class=\"dataframe\">\n",
       "  <thead>\n",
       "    <tr style=\"text-align: right;\">\n",
       "      <th></th>\n",
       "      <th>skills</th>\n",
       "    </tr>\n",
       "  </thead>\n",
       "  <tbody>\n",
       "    <tr>\n",
       "      <th>0</th>\n",
       "      <td>Programming</td>\n",
       "    </tr>\n",
       "    <tr>\n",
       "      <th>1</th>\n",
       "      <td>Php</td>\n",
       "    </tr>\n",
       "    <tr>\n",
       "      <th>2</th>\n",
       "      <td>Writing</td>\n",
       "    </tr>\n",
       "    <tr>\n",
       "      <th>3</th>\n",
       "      <td>Visual</td>\n",
       "    </tr>\n",
       "    <tr>\n",
       "      <th>4</th>\n",
       "      <td>Github</td>\n",
       "    </tr>\n",
       "    <tr>\n",
       "      <th>5</th>\n",
       "      <td>Analysis</td>\n",
       "    </tr>\n",
       "    <tr>\n",
       "      <th>6</th>\n",
       "      <td>Research</td>\n",
       "    </tr>\n",
       "    <tr>\n",
       "      <th>7</th>\n",
       "      <td>Website</td>\n",
       "    </tr>\n",
       "    <tr>\n",
       "      <th>8</th>\n",
       "      <td>Javascript</td>\n",
       "    </tr>\n",
       "    <tr>\n",
       "      <th>9</th>\n",
       "      <td>Apis</td>\n",
       "    </tr>\n",
       "    <tr>\n",
       "      <th>10</th>\n",
       "      <td>Js</td>\n",
       "    </tr>\n",
       "    <tr>\n",
       "      <th>11</th>\n",
       "      <td>Python</td>\n",
       "    </tr>\n",
       "    <tr>\n",
       "      <th>12</th>\n",
       "      <td>Email</td>\n",
       "    </tr>\n",
       "    <tr>\n",
       "      <th>13</th>\n",
       "      <td>System</td>\n",
       "    </tr>\n",
       "    <tr>\n",
       "      <th>14</th>\n",
       "      <td>Scheduling</td>\n",
       "    </tr>\n",
       "    <tr>\n",
       "      <th>15</th>\n",
       "      <td>R</td>\n",
       "    </tr>\n",
       "    <tr>\n",
       "      <th>16</th>\n",
       "      <td>Css</td>\n",
       "    </tr>\n",
       "    <tr>\n",
       "      <th>17</th>\n",
       "      <td>Mysql</td>\n",
       "    </tr>\n",
       "    <tr>\n",
       "      <th>18</th>\n",
       "      <td>Java</td>\n",
       "    </tr>\n",
       "    <tr>\n",
       "      <th>19</th>\n",
       "      <td>Communication</td>\n",
       "    </tr>\n",
       "    <tr>\n",
       "      <th>20</th>\n",
       "      <td>Technical</td>\n",
       "    </tr>\n",
       "    <tr>\n",
       "      <th>21</th>\n",
       "      <td>Computer science</td>\n",
       "    </tr>\n",
       "    <tr>\n",
       "      <th>22</th>\n",
       "      <td>Engineering</td>\n",
       "    </tr>\n",
       "    <tr>\n",
       "      <th>23</th>\n",
       "      <td>Html</td>\n",
       "    </tr>\n",
       "  </tbody>\n",
       "</table>\n",
       "</div>"
      ],
      "text/plain": [
       "              skills\n",
       "0        Programming\n",
       "1                Php\n",
       "2            Writing\n",
       "3             Visual\n",
       "4             Github\n",
       "5           Analysis\n",
       "6           Research\n",
       "7            Website\n",
       "8         Javascript\n",
       "9               Apis\n",
       "10                Js\n",
       "11            Python\n",
       "12             Email\n",
       "13            System\n",
       "14        Scheduling\n",
       "15                 R\n",
       "16               Css\n",
       "17             Mysql\n",
       "18              Java\n",
       "19     Communication\n",
       "20         Technical\n",
       "21  Computer science\n",
       "22       Engineering\n",
       "23              Html"
      ]
     },
     "execution_count": 29,
     "metadata": {},
     "output_type": "execute_result"
    }
   ],
   "source": [
    "df_skills = pd.DataFrame(data,columns=[\"skills\"])\n",
    "df_skills"
   ]
  },
  {
   "cell_type": "code",
   "execution_count": null,
   "id": "2c55d22c",
   "metadata": {},
   "outputs": [],
   "source": []
  },
  {
   "cell_type": "code",
   "execution_count": 30,
   "id": "45d506fa",
   "metadata": {},
   "outputs": [],
   "source": [
    "import spacy"
   ]
  },
  {
   "cell_type": "code",
   "execution_count": 32,
   "id": "f5c4c614",
   "metadata": {},
   "outputs": [
    {
     "name": "stdout",
     "output_type": "stream",
     "text": [
      "2.3.9\n"
     ]
    }
   ],
   "source": [
    "print(spacy.__version__)"
   ]
  },
  {
   "cell_type": "code",
   "execution_count": null,
   "id": "ce87b8b7",
   "metadata": {},
   "outputs": [],
   "source": []
  }
 ],
 "metadata": {
  "kernelspec": {
   "display_name": "Python 3 (ipykernel)",
   "language": "python",
   "name": "python3"
  },
  "language_info": {
   "codemirror_mode": {
    "name": "ipython",
    "version": 3
   },
   "file_extension": ".py",
   "mimetype": "text/x-python",
   "name": "python",
   "nbconvert_exporter": "python",
   "pygments_lexer": "ipython3",
   "version": "3.10.9"
  }
 },
 "nbformat": 4,
 "nbformat_minor": 5
}
